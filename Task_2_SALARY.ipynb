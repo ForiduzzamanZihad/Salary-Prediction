{
 "cells": [
  {
   "cell_type": "code",
   "execution_count": 234,
   "id": "fc1282ce",
   "metadata": {},
   "outputs": [],
   "source": [
    "import pandas as pd\n",
    "import numpy as np\n",
    "from sklearn import linear_model\n",
    "import matplotlib.pyplot as plt\n",
    "%matplotlib inline\n",
    "from sklearn.preprocessing import LabelEncoder\n",
    "from sklearn.preprocessing import OneHotEncoder\n",
    "from sklearn.compose import ColumnTransformer\n",
    "from sklearn.model_selection import train_test_split\n",
    "from math import sqrt"
   ]
  },
  {
   "cell_type": "code",
   "execution_count": 235,
   "id": "4cdd3496",
   "metadata": {},
   "outputs": [
    {
     "data": {
      "text/html": [
       "<div>\n",
       "<style scoped>\n",
       "    .dataframe tbody tr th:only-of-type {\n",
       "        vertical-align: middle;\n",
       "    }\n",
       "\n",
       "    .dataframe tbody tr th {\n",
       "        vertical-align: top;\n",
       "    }\n",
       "\n",
       "    .dataframe thead th {\n",
       "        text-align: right;\n",
       "    }\n",
       "</style>\n",
       "<table border=\"1\" class=\"dataframe\">\n",
       "  <thead>\n",
       "    <tr style=\"text-align: right;\">\n",
       "      <th></th>\n",
       "      <th>Unnamed: 0</th>\n",
       "      <th>work_year</th>\n",
       "      <th>experience_level</th>\n",
       "      <th>employment_type</th>\n",
       "      <th>job_title</th>\n",
       "      <th>salary</th>\n",
       "      <th>salary_currency</th>\n",
       "      <th>salary_in_usd</th>\n",
       "      <th>employee_residence</th>\n",
       "      <th>remote_ratio</th>\n",
       "      <th>company_location</th>\n",
       "      <th>company_size</th>\n",
       "    </tr>\n",
       "  </thead>\n",
       "  <tbody>\n",
       "    <tr>\n",
       "      <th>0</th>\n",
       "      <td>0</td>\n",
       "      <td>2020</td>\n",
       "      <td>MI</td>\n",
       "      <td>FT</td>\n",
       "      <td>Data Scientist</td>\n",
       "      <td>70000</td>\n",
       "      <td>EUR</td>\n",
       "      <td>79833</td>\n",
       "      <td>DE</td>\n",
       "      <td>0</td>\n",
       "      <td>DE</td>\n",
       "      <td>L</td>\n",
       "    </tr>\n",
       "    <tr>\n",
       "      <th>1</th>\n",
       "      <td>1</td>\n",
       "      <td>2020</td>\n",
       "      <td>SE</td>\n",
       "      <td>FT</td>\n",
       "      <td>Machine Learning Scientist</td>\n",
       "      <td>260000</td>\n",
       "      <td>USD</td>\n",
       "      <td>260000</td>\n",
       "      <td>JP</td>\n",
       "      <td>0</td>\n",
       "      <td>JP</td>\n",
       "      <td>S</td>\n",
       "    </tr>\n",
       "    <tr>\n",
       "      <th>2</th>\n",
       "      <td>2</td>\n",
       "      <td>2020</td>\n",
       "      <td>SE</td>\n",
       "      <td>FT</td>\n",
       "      <td>Big Data Engineer</td>\n",
       "      <td>85000</td>\n",
       "      <td>GBP</td>\n",
       "      <td>109024</td>\n",
       "      <td>GB</td>\n",
       "      <td>50</td>\n",
       "      <td>GB</td>\n",
       "      <td>M</td>\n",
       "    </tr>\n",
       "    <tr>\n",
       "      <th>3</th>\n",
       "      <td>3</td>\n",
       "      <td>2020</td>\n",
       "      <td>MI</td>\n",
       "      <td>FT</td>\n",
       "      <td>Product Data Analyst</td>\n",
       "      <td>20000</td>\n",
       "      <td>USD</td>\n",
       "      <td>20000</td>\n",
       "      <td>HN</td>\n",
       "      <td>0</td>\n",
       "      <td>HN</td>\n",
       "      <td>S</td>\n",
       "    </tr>\n",
       "    <tr>\n",
       "      <th>4</th>\n",
       "      <td>4</td>\n",
       "      <td>2020</td>\n",
       "      <td>SE</td>\n",
       "      <td>FT</td>\n",
       "      <td>Machine Learning Engineer</td>\n",
       "      <td>150000</td>\n",
       "      <td>USD</td>\n",
       "      <td>150000</td>\n",
       "      <td>US</td>\n",
       "      <td>50</td>\n",
       "      <td>US</td>\n",
       "      <td>L</td>\n",
       "    </tr>\n",
       "  </tbody>\n",
       "</table>\n",
       "</div>"
      ],
      "text/plain": [
       "   Unnamed: 0  work_year experience_level employment_type  \\\n",
       "0           0       2020               MI              FT   \n",
       "1           1       2020               SE              FT   \n",
       "2           2       2020               SE              FT   \n",
       "3           3       2020               MI              FT   \n",
       "4           4       2020               SE              FT   \n",
       "\n",
       "                    job_title  salary salary_currency  salary_in_usd  \\\n",
       "0              Data Scientist   70000             EUR          79833   \n",
       "1  Machine Learning Scientist  260000             USD         260000   \n",
       "2           Big Data Engineer   85000             GBP         109024   \n",
       "3        Product Data Analyst   20000             USD          20000   \n",
       "4   Machine Learning Engineer  150000             USD         150000   \n",
       "\n",
       "  employee_residence  remote_ratio company_location company_size  \n",
       "0                 DE             0               DE            L  \n",
       "1                 JP             0               JP            S  \n",
       "2                 GB            50               GB            M  \n",
       "3                 HN             0               HN            S  \n",
       "4                 US            50               US            L  "
      ]
     },
     "execution_count": 235,
     "metadata": {},
     "output_type": "execute_result"
    }
   ],
   "source": [
    "df = pd.read_csv(\"ds_salaries.csv\")\n",
    "df.head()"
   ]
  },
  {
   "cell_type": "code",
   "execution_count": 236,
   "id": "33ef6faa",
   "metadata": {},
   "outputs": [
    {
     "data": {
      "text/html": [
       "<div>\n",
       "<style scoped>\n",
       "    .dataframe tbody tr th:only-of-type {\n",
       "        vertical-align: middle;\n",
       "    }\n",
       "\n",
       "    .dataframe tbody tr th {\n",
       "        vertical-align: top;\n",
       "    }\n",
       "\n",
       "    .dataframe thead th {\n",
       "        text-align: right;\n",
       "    }\n",
       "</style>\n",
       "<table border=\"1\" class=\"dataframe\">\n",
       "  <thead>\n",
       "    <tr style=\"text-align: right;\">\n",
       "      <th></th>\n",
       "      <th>Unnamed: 0</th>\n",
       "      <th>work_year</th>\n",
       "      <th>salary</th>\n",
       "      <th>salary_in_usd</th>\n",
       "      <th>remote_ratio</th>\n",
       "    </tr>\n",
       "  </thead>\n",
       "  <tbody>\n",
       "    <tr>\n",
       "      <th>count</th>\n",
       "      <td>607.000000</td>\n",
       "      <td>607.000000</td>\n",
       "      <td>6.070000e+02</td>\n",
       "      <td>607.000000</td>\n",
       "      <td>607.00000</td>\n",
       "    </tr>\n",
       "    <tr>\n",
       "      <th>mean</th>\n",
       "      <td>303.000000</td>\n",
       "      <td>2021.405272</td>\n",
       "      <td>3.240001e+05</td>\n",
       "      <td>112297.869852</td>\n",
       "      <td>70.92257</td>\n",
       "    </tr>\n",
       "    <tr>\n",
       "      <th>std</th>\n",
       "      <td>175.370085</td>\n",
       "      <td>0.692133</td>\n",
       "      <td>1.544357e+06</td>\n",
       "      <td>70957.259411</td>\n",
       "      <td>40.70913</td>\n",
       "    </tr>\n",
       "    <tr>\n",
       "      <th>min</th>\n",
       "      <td>0.000000</td>\n",
       "      <td>2020.000000</td>\n",
       "      <td>4.000000e+03</td>\n",
       "      <td>2859.000000</td>\n",
       "      <td>0.00000</td>\n",
       "    </tr>\n",
       "    <tr>\n",
       "      <th>25%</th>\n",
       "      <td>151.500000</td>\n",
       "      <td>2021.000000</td>\n",
       "      <td>7.000000e+04</td>\n",
       "      <td>62726.000000</td>\n",
       "      <td>50.00000</td>\n",
       "    </tr>\n",
       "    <tr>\n",
       "      <th>50%</th>\n",
       "      <td>303.000000</td>\n",
       "      <td>2022.000000</td>\n",
       "      <td>1.150000e+05</td>\n",
       "      <td>101570.000000</td>\n",
       "      <td>100.00000</td>\n",
       "    </tr>\n",
       "    <tr>\n",
       "      <th>75%</th>\n",
       "      <td>454.500000</td>\n",
       "      <td>2022.000000</td>\n",
       "      <td>1.650000e+05</td>\n",
       "      <td>150000.000000</td>\n",
       "      <td>100.00000</td>\n",
       "    </tr>\n",
       "    <tr>\n",
       "      <th>max</th>\n",
       "      <td>606.000000</td>\n",
       "      <td>2022.000000</td>\n",
       "      <td>3.040000e+07</td>\n",
       "      <td>600000.000000</td>\n",
       "      <td>100.00000</td>\n",
       "    </tr>\n",
       "  </tbody>\n",
       "</table>\n",
       "</div>"
      ],
      "text/plain": [
       "       Unnamed: 0    work_year        salary  salary_in_usd  remote_ratio\n",
       "count  607.000000   607.000000  6.070000e+02     607.000000     607.00000\n",
       "mean   303.000000  2021.405272  3.240001e+05  112297.869852      70.92257\n",
       "std    175.370085     0.692133  1.544357e+06   70957.259411      40.70913\n",
       "min      0.000000  2020.000000  4.000000e+03    2859.000000       0.00000\n",
       "25%    151.500000  2021.000000  7.000000e+04   62726.000000      50.00000\n",
       "50%    303.000000  2022.000000  1.150000e+05  101570.000000     100.00000\n",
       "75%    454.500000  2022.000000  1.650000e+05  150000.000000     100.00000\n",
       "max    606.000000  2022.000000  3.040000e+07  600000.000000     100.00000"
      ]
     },
     "execution_count": 236,
     "metadata": {},
     "output_type": "execute_result"
    }
   ],
   "source": [
    "df.describe()"
   ]
  },
  {
   "cell_type": "code",
   "execution_count": 237,
   "id": "8c592039",
   "metadata": {},
   "outputs": [
    {
     "data": {
      "text/plain": [
       "(607, 12)"
      ]
     },
     "execution_count": 237,
     "metadata": {},
     "output_type": "execute_result"
    }
   ],
   "source": [
    "df.shape"
   ]
  },
  {
   "cell_type": "code",
   "execution_count": 238,
   "id": "8d817a8c",
   "metadata": {},
   "outputs": [
    {
     "data": {
      "text/plain": [
       "Unnamed: 0             int64\n",
       "work_year              int64\n",
       "experience_level      object\n",
       "employment_type       object\n",
       "job_title             object\n",
       "salary                 int64\n",
       "salary_currency       object\n",
       "salary_in_usd          int64\n",
       "employee_residence    object\n",
       "remote_ratio           int64\n",
       "company_location      object\n",
       "company_size          object\n",
       "dtype: object"
      ]
     },
     "execution_count": 238,
     "metadata": {},
     "output_type": "execute_result"
    }
   ],
   "source": [
    "types = df.dtypes\n",
    "types"
   ]
  },
  {
   "cell_type": "code",
   "execution_count": 239,
   "id": "7051b8ac",
   "metadata": {},
   "outputs": [
    {
     "data": {
      "text/plain": [
       "<matplotlib.collections.PathCollection at 0x2c6a0559880>"
      ]
     },
     "execution_count": 239,
     "metadata": {},
     "output_type": "execute_result"
    },
    {
     "data": {
      "image/png": "[encoded data removed]",
      "text/plain": [
       "<Figure size 640x480 with 1 Axes>"
      ]
     },
     "metadata": {},
     "output_type": "display_data"
    }
   ],
   "source": [
    "plt.xlabel('company_size')\n",
    "plt.ylabel('salary')\n",
    "plt.scatter(df['company_size'],df['salary'])"
   ]
  },
  {
   "cell_type": "code",
   "execution_count": 240,
   "id": "457163a8",
   "metadata": {},
   "outputs": [
    {
     "data": {
      "text/plain": [
       "<BarContainer object of 607 artists>"
      ]
     },
     "execution_count": 240,
     "metadata": {},
     "output_type": "execute_result"
    },
    {
     "data": {
      "image/png": "[encoded data removed]",
      "text/plain": [
       "<Figure size 640x480 with 1 Axes>"
      ]
     },
     "metadata": {},
     "output_type": "display_data"
    }
   ],
   "source": [
    "plt.xlabel('work_year')\n",
    "plt.ylabel('salary')\n",
    "plt.bar(df['work_year'],df['salary'])"
   ]
  },
  {
   "cell_type": "code",
   "execution_count": 241,
   "id": "8a5a4e2f",
   "metadata": {},
   "outputs": [
    {
     "data": {
      "text/plain": [
       "Unnamed: 0            0\n",
       "work_year             0\n",
       "experience_level      0\n",
       "employment_type       0\n",
       "job_title             0\n",
       "salary                0\n",
       "salary_currency       0\n",
       "salary_in_usd         0\n",
       "employee_residence    0\n",
       "remote_ratio          0\n",
       "company_location      0\n",
       "company_size          0\n",
       "dtype: int64"
      ]
     },
     "execution_count": 241,
     "metadata": {},
     "output_type": "execute_result"
    }
   ],
   "source": [
    "df.isnull().sum()"
   ]
  },
  {
   "cell_type": "code",
   "execution_count": 242,
   "id": "cc79d68d",
   "metadata": {},
   "outputs": [
    {
     "data": {
      "text/html": [
       "<div>\n",
       "<style scoped>\n",
       "    .dataframe tbody tr th:only-of-type {\n",
       "        vertical-align: middle;\n",
       "    }\n",
       "\n",
       "    .dataframe tbody tr th {\n",
       "        vertical-align: top;\n",
       "    }\n",
       "\n",
       "    .dataframe thead th {\n",
       "        text-align: right;\n",
       "    }\n",
       "</style>\n",
       "<table border=\"1\" class=\"dataframe\">\n",
       "  <thead>\n",
       "    <tr style=\"text-align: right;\">\n",
       "      <th></th>\n",
       "      <th>work_year</th>\n",
       "      <th>experience_level</th>\n",
       "      <th>employment_type</th>\n",
       "      <th>job_title</th>\n",
       "      <th>salary</th>\n",
       "      <th>remote_ratio</th>\n",
       "      <th>company_location</th>\n",
       "      <th>company_size</th>\n",
       "    </tr>\n",
       "  </thead>\n",
       "  <tbody>\n",
       "    <tr>\n",
       "      <th>0</th>\n",
       "      <td>2020</td>\n",
       "      <td>MI</td>\n",
       "      <td>FT</td>\n",
       "      <td>Data Scientist</td>\n",
       "      <td>70000</td>\n",
       "      <td>0</td>\n",
       "      <td>DE</td>\n",
       "      <td>L</td>\n",
       "    </tr>\n",
       "    <tr>\n",
       "      <th>1</th>\n",
       "      <td>2020</td>\n",
       "      <td>SE</td>\n",
       "      <td>FT</td>\n",
       "      <td>Machine Learning Scientist</td>\n",
       "      <td>260000</td>\n",
       "      <td>0</td>\n",
       "      <td>JP</td>\n",
       "      <td>S</td>\n",
       "    </tr>\n",
       "    <tr>\n",
       "      <th>2</th>\n",
       "      <td>2020</td>\n",
       "      <td>SE</td>\n",
       "      <td>FT</td>\n",
       "      <td>Big Data Engineer</td>\n",
       "      <td>85000</td>\n",
       "      <td>50</td>\n",
       "      <td>GB</td>\n",
       "      <td>M</td>\n",
       "    </tr>\n",
       "    <tr>\n",
       "      <th>3</th>\n",
       "      <td>2020</td>\n",
       "      <td>MI</td>\n",
       "      <td>FT</td>\n",
       "      <td>Product Data Analyst</td>\n",
       "      <td>20000</td>\n",
       "      <td>0</td>\n",
       "      <td>HN</td>\n",
       "      <td>S</td>\n",
       "    </tr>\n",
       "    <tr>\n",
       "      <th>4</th>\n",
       "      <td>2020</td>\n",
       "      <td>SE</td>\n",
       "      <td>FT</td>\n",
       "      <td>Machine Learning Engineer</td>\n",
       "      <td>150000</td>\n",
       "      <td>50</td>\n",
       "      <td>US</td>\n",
       "      <td>L</td>\n",
       "    </tr>\n",
       "    <tr>\n",
       "      <th>...</th>\n",
       "      <td>...</td>\n",
       "      <td>...</td>\n",
       "      <td>...</td>\n",
       "      <td>...</td>\n",
       "      <td>...</td>\n",
       "      <td>...</td>\n",
       "      <td>...</td>\n",
       "      <td>...</td>\n",
       "    </tr>\n",
       "    <tr>\n",
       "      <th>602</th>\n",
       "      <td>2022</td>\n",
       "      <td>SE</td>\n",
       "      <td>FT</td>\n",
       "      <td>Data Engineer</td>\n",
       "      <td>154000</td>\n",
       "      <td>100</td>\n",
       "      <td>US</td>\n",
       "      <td>M</td>\n",
       "    </tr>\n",
       "    <tr>\n",
       "      <th>603</th>\n",
       "      <td>2022</td>\n",
       "      <td>SE</td>\n",
       "      <td>FT</td>\n",
       "      <td>Data Engineer</td>\n",
       "      <td>126000</td>\n",
       "      <td>100</td>\n",
       "      <td>US</td>\n",
       "      <td>M</td>\n",
       "    </tr>\n",
       "    <tr>\n",
       "      <th>604</th>\n",
       "      <td>2022</td>\n",
       "      <td>SE</td>\n",
       "      <td>FT</td>\n",
       "      <td>Data Analyst</td>\n",
       "      <td>129000</td>\n",
       "      <td>0</td>\n",
       "      <td>US</td>\n",
       "      <td>M</td>\n",
       "    </tr>\n",
       "    <tr>\n",
       "      <th>605</th>\n",
       "      <td>2022</td>\n",
       "      <td>SE</td>\n",
       "      <td>FT</td>\n",
       "      <td>Data Analyst</td>\n",
       "      <td>150000</td>\n",
       "      <td>100</td>\n",
       "      <td>US</td>\n",
       "      <td>M</td>\n",
       "    </tr>\n",
       "    <tr>\n",
       "      <th>606</th>\n",
       "      <td>2022</td>\n",
       "      <td>MI</td>\n",
       "      <td>FT</td>\n",
       "      <td>AI Scientist</td>\n",
       "      <td>200000</td>\n",
       "      <td>100</td>\n",
       "      <td>US</td>\n",
       "      <td>L</td>\n",
       "    </tr>\n",
       "  </tbody>\n",
       "</table>\n",
       "<p>607 rows × 8 columns</p>\n",
       "</div>"
      ],
      "text/plain": [
       "     work_year experience_level employment_type                   job_title  \\\n",
       "0         2020               MI              FT              Data Scientist   \n",
       "1         2020               SE              FT  Machine Learning Scientist   \n",
       "2         2020               SE              FT           Big Data Engineer   \n",
       "3         2020               MI              FT        Product Data Analyst   \n",
       "4         2020               SE              FT   Machine Learning Engineer   \n",
       "..         ...              ...             ...                         ...   \n",
       "602       2022               SE              FT               Data Engineer   \n",
       "603       2022               SE              FT               Data Engineer   \n",
       "604       2022               SE              FT                Data Analyst   \n",
       "605       2022               SE              FT                Data Analyst   \n",
       "606       2022               MI              FT                AI Scientist   \n",
       "\n",
       "     salary  remote_ratio company_location company_size  \n",
       "0     70000             0               DE            L  \n",
       "1    260000             0               JP            S  \n",
       "2     85000            50               GB            M  \n",
       "3     20000             0               HN            S  \n",
       "4    150000            50               US            L  \n",
       "..      ...           ...              ...          ...  \n",
       "602  154000           100               US            M  \n",
       "603  126000           100               US            M  \n",
       "604  129000             0               US            M  \n",
       "605  150000           100               US            M  \n",
       "606  200000           100               US            L  \n",
       "\n",
       "[607 rows x 8 columns]"
      ]
     },
     "execution_count": 242,
     "metadata": {},
     "output_type": "execute_result"
    }
   ],
   "source": [
    "X = df.drop(['Unnamed: 0','salary_currency','salary_in_usd','employee_residence'],axis='columns')\n",
    "X"
   ]
  },
  {
   "cell_type": "code",
   "execution_count": 243,
   "id": "2342276f",
   "metadata": {},
   "outputs": [
    {
     "data": {
      "text/plain": [
       "(607, 8)"
      ]
     },
     "execution_count": 243,
     "metadata": {},
     "output_type": "execute_result"
    }
   ],
   "source": [
    "X.shape"
   ]
  },
  {
   "cell_type": "code",
   "execution_count": 244,
   "id": "ae455adf",
   "metadata": {},
   "outputs": [
    {
     "data": {
      "text/plain": [
       "0       70000\n",
       "1      260000\n",
       "2       85000\n",
       "3       20000\n",
       "4      150000\n",
       "        ...  \n",
       "602    154000\n",
       "603    126000\n",
       "604    129000\n",
       "605    150000\n",
       "606    200000\n",
       "Name: salary, Length: 607, dtype: int64"
      ]
     },
     "execution_count": 244,
     "metadata": {},
     "output_type": "execute_result"
    }
   ],
   "source": [
    "y = df.salary\n",
    "y"
   ]
  },
  {
   "cell_type": "code",
   "execution_count": 245,
   "id": "b8c2c8ca",
   "metadata": {},
   "outputs": [
    {
     "data": {
      "text/plain": [
       "array(['L', 'S', 'M'], dtype=object)"
      ]
     },
     "execution_count": 245,
     "metadata": {},
     "output_type": "execute_result"
    }
   ],
   "source": [
    "X['company_size'].unique()"
   ]
  },
  {
   "cell_type": "code",
   "execution_count": 246,
   "id": "2f20c948",
   "metadata": {},
   "outputs": [
    {
     "data": {
      "text/plain": [
       "M    326\n",
       "L    198\n",
       "S     83\n",
       "Name: company_size, dtype: int64"
      ]
     },
     "execution_count": 246,
     "metadata": {},
     "output_type": "execute_result"
    }
   ],
   "source": [
    "X['company_size'].value_counts()"
   ]
  },
  {
   "cell_type": "code",
   "execution_count": 247,
   "id": "4a623149",
   "metadata": {},
   "outputs": [
    {
     "data": {
      "text/html": [
       "<div>\n",
       "<style scoped>\n",
       "    .dataframe tbody tr th:only-of-type {\n",
       "        vertical-align: middle;\n",
       "    }\n",
       "\n",
       "    .dataframe tbody tr th {\n",
       "        vertical-align: top;\n",
       "    }\n",
       "\n",
       "    .dataframe thead th {\n",
       "        text-align: right;\n",
       "    }\n",
       "</style>\n",
       "<table border=\"1\" class=\"dataframe\">\n",
       "  <thead>\n",
       "    <tr style=\"text-align: right;\">\n",
       "      <th></th>\n",
       "      <th>work_year</th>\n",
       "      <th>experience_level</th>\n",
       "      <th>employment_type</th>\n",
       "      <th>job_title</th>\n",
       "      <th>salary</th>\n",
       "      <th>remote_ratio</th>\n",
       "      <th>company_location</th>\n",
       "      <th>company_size</th>\n",
       "    </tr>\n",
       "  </thead>\n",
       "  <tbody>\n",
       "    <tr>\n",
       "      <th>0</th>\n",
       "      <td>2020</td>\n",
       "      <td>MI</td>\n",
       "      <td>FT</td>\n",
       "      <td>Data Scientist</td>\n",
       "      <td>70000</td>\n",
       "      <td>0</td>\n",
       "      <td>DE</td>\n",
       "      <td>3</td>\n",
       "    </tr>\n",
       "    <tr>\n",
       "      <th>1</th>\n",
       "      <td>2020</td>\n",
       "      <td>SE</td>\n",
       "      <td>FT</td>\n",
       "      <td>Machine Learning Scientist</td>\n",
       "      <td>260000</td>\n",
       "      <td>0</td>\n",
       "      <td>JP</td>\n",
       "      <td>1</td>\n",
       "    </tr>\n",
       "    <tr>\n",
       "      <th>2</th>\n",
       "      <td>2020</td>\n",
       "      <td>SE</td>\n",
       "      <td>FT</td>\n",
       "      <td>Big Data Engineer</td>\n",
       "      <td>85000</td>\n",
       "      <td>50</td>\n",
       "      <td>GB</td>\n",
       "      <td>2</td>\n",
       "    </tr>\n",
       "    <tr>\n",
       "      <th>3</th>\n",
       "      <td>2020</td>\n",
       "      <td>MI</td>\n",
       "      <td>FT</td>\n",
       "      <td>Product Data Analyst</td>\n",
       "      <td>20000</td>\n",
       "      <td>0</td>\n",
       "      <td>HN</td>\n",
       "      <td>1</td>\n",
       "    </tr>\n",
       "    <tr>\n",
       "      <th>4</th>\n",
       "      <td>2020</td>\n",
       "      <td>SE</td>\n",
       "      <td>FT</td>\n",
       "      <td>Machine Learning Engineer</td>\n",
       "      <td>150000</td>\n",
       "      <td>50</td>\n",
       "      <td>US</td>\n",
       "      <td>3</td>\n",
       "    </tr>\n",
       "  </tbody>\n",
       "</table>\n",
       "</div>"
      ],
      "text/plain": [
       "   work_year experience_level employment_type                   job_title  \\\n",
       "0       2020               MI              FT              Data Scientist   \n",
       "1       2020               SE              FT  Machine Learning Scientist   \n",
       "2       2020               SE              FT           Big Data Engineer   \n",
       "3       2020               MI              FT        Product Data Analyst   \n",
       "4       2020               SE              FT   Machine Learning Engineer   \n",
       "\n",
       "   salary  remote_ratio company_location  company_size  \n",
       "0   70000             0               DE             3  \n",
       "1  260000             0               JP             1  \n",
       "2   85000            50               GB             2  \n",
       "3   20000             0               HN             1  \n",
       "4  150000            50               US             3  "
      ]
     },
     "execution_count": 247,
     "metadata": {},
     "output_type": "execute_result"
    }
   ],
   "source": [
    "com_size = {'S': 1,'M': 2,'L': 3}\n",
    "X.company_size = [com_size[item] for item in X.company_size]\n",
    "X.head()"
   ]
  },
  {
   "cell_type": "code",
   "execution_count": 248,
   "id": "9b208383",
   "metadata": {},
   "outputs": [
    {
     "data": {
      "text/plain": [
       "array(['MI', 'SE', 'EN', 'EX'], dtype=object)"
      ]
     },
     "execution_count": 248,
     "metadata": {},
     "output_type": "execute_result"
    }
   ],
   "source": [
    "X['experience_level'].unique()"
   ]
  },
  {
   "cell_type": "code",
   "execution_count": 249,
   "id": "e1ce39ca",
   "metadata": {},
   "outputs": [
    {
     "data": {
      "text/plain": [
       "SE    280\n",
       "MI    213\n",
       "EN     88\n",
       "EX     26\n",
       "Name: experience_level, dtype: int64"
      ]
     },
     "execution_count": 249,
     "metadata": {},
     "output_type": "execute_result"
    }
   ],
   "source": [
    "X['experience_level'].value_counts()"
   ]
  },
  {
   "cell_type": "code",
   "execution_count": 250,
   "id": "5078db20",
   "metadata": {},
   "outputs": [],
   "source": [
    "le = LabelEncoder()"
   ]
  },
  {
   "cell_type": "code",
   "execution_count": 251,
   "id": "e2f7d07c",
   "metadata": {},
   "outputs": [
    {
     "data": {
      "text/html": [
       "<div>\n",
       "<style scoped>\n",
       "    .dataframe tbody tr th:only-of-type {\n",
       "        vertical-align: middle;\n",
       "    }\n",
       "\n",
       "    .dataframe tbody tr th {\n",
       "        vertical-align: top;\n",
       "    }\n",
       "\n",
       "    .dataframe thead th {\n",
       "        text-align: right;\n",
       "    }\n",
       "</style>\n",
       "<table border=\"1\" class=\"dataframe\">\n",
       "  <thead>\n",
       "    <tr style=\"text-align: right;\">\n",
       "      <th></th>\n",
       "      <th>work_year</th>\n",
       "      <th>experience_level</th>\n",
       "      <th>employment_type</th>\n",
       "      <th>job_title</th>\n",
       "      <th>salary</th>\n",
       "      <th>remote_ratio</th>\n",
       "      <th>company_location</th>\n",
       "      <th>company_size</th>\n",
       "    </tr>\n",
       "  </thead>\n",
       "  <tbody>\n",
       "    <tr>\n",
       "      <th>0</th>\n",
       "      <td>2020</td>\n",
       "      <td>2</td>\n",
       "      <td>FT</td>\n",
       "      <td>Data Scientist</td>\n",
       "      <td>70000</td>\n",
       "      <td>0</td>\n",
       "      <td>DE</td>\n",
       "      <td>3</td>\n",
       "    </tr>\n",
       "    <tr>\n",
       "      <th>1</th>\n",
       "      <td>2020</td>\n",
       "      <td>3</td>\n",
       "      <td>FT</td>\n",
       "      <td>Machine Learning Scientist</td>\n",
       "      <td>260000</td>\n",
       "      <td>0</td>\n",
       "      <td>JP</td>\n",
       "      <td>1</td>\n",
       "    </tr>\n",
       "    <tr>\n",
       "      <th>2</th>\n",
       "      <td>2020</td>\n",
       "      <td>3</td>\n",
       "      <td>FT</td>\n",
       "      <td>Big Data Engineer</td>\n",
       "      <td>85000</td>\n",
       "      <td>50</td>\n",
       "      <td>GB</td>\n",
       "      <td>2</td>\n",
       "    </tr>\n",
       "    <tr>\n",
       "      <th>3</th>\n",
       "      <td>2020</td>\n",
       "      <td>2</td>\n",
       "      <td>FT</td>\n",
       "      <td>Product Data Analyst</td>\n",
       "      <td>20000</td>\n",
       "      <td>0</td>\n",
       "      <td>HN</td>\n",
       "      <td>1</td>\n",
       "    </tr>\n",
       "    <tr>\n",
       "      <th>4</th>\n",
       "      <td>2020</td>\n",
       "      <td>3</td>\n",
       "      <td>FT</td>\n",
       "      <td>Machine Learning Engineer</td>\n",
       "      <td>150000</td>\n",
       "      <td>50</td>\n",
       "      <td>US</td>\n",
       "      <td>3</td>\n",
       "    </tr>\n",
       "  </tbody>\n",
       "</table>\n",
       "</div>"
      ],
      "text/plain": [
       "   work_year  experience_level employment_type                   job_title  \\\n",
       "0       2020                 2              FT              Data Scientist   \n",
       "1       2020                 3              FT  Machine Learning Scientist   \n",
       "2       2020                 3              FT           Big Data Engineer   \n",
       "3       2020                 2              FT        Product Data Analyst   \n",
       "4       2020                 3              FT   Machine Learning Engineer   \n",
       "\n",
       "   salary  remote_ratio company_location  company_size  \n",
       "0   70000             0               DE             3  \n",
       "1  260000             0               JP             1  \n",
       "2   85000            50               GB             2  \n",
       "3   20000             0               HN             1  \n",
       "4  150000            50               US             3  "
      ]
     },
     "execution_count": 251,
     "metadata": {},
     "output_type": "execute_result"
    }
   ],
   "source": [
    "X.experience_level = le.fit_transform(X.experience_level)\n",
    "X.head()"
   ]
  },
  {
   "cell_type": "code",
   "execution_count": 252,
   "id": "5ba2c5a0",
   "metadata": {},
   "outputs": [
    {
     "data": {
      "text/plain": [
       "(array([ 83., 326., 198.]),\n",
       " array([1.        , 1.66666667, 2.33333333, 3.        ]),\n",
       " <BarContainer object of 3 artists>)"
      ]
     },
     "execution_count": 252,
     "metadata": {},
     "output_type": "execute_result"
    },
    {
     "data": {
      "image/png": "[encoded data removed]",
      "text/plain": [
       "<Figure size 640x480 with 1 Axes>"
      ]
     },
     "metadata": {},
     "output_type": "display_data"
    }
   ],
   "source": [
    "plt.hist(X['company_size'],bins=3)"
   ]
  },
  {
   "cell_type": "code",
   "execution_count": 253,
   "id": "263a89e2",
   "metadata": {},
   "outputs": [
    {
     "data": {
      "text/plain": [
       "<BarContainer object of 607 artists>"
      ]
     },
     "execution_count": 253,
     "metadata": {},
     "output_type": "execute_result"
    },
    {
     "data": {
      "image/png": "[encoded data removed]",
      "text/plain": [
       "<Figure size 640x480 with 1 Axes>"
      ]
     },
     "metadata": {},
     "output_type": "display_data"
    }
   ],
   "source": [
    "plt.xlabel('experience_level')\n",
    "plt.ylabel('salary')\n",
    "plt.bar(X['experience_level'],df['salary'])"
   ]
  },
  {
   "cell_type": "code",
   "execution_count": 254,
   "id": "e98faac5",
   "metadata": {},
   "outputs": [
    {
     "data": {
      "text/plain": [
       "array(['FT', 'CT', 'PT', 'FL'], dtype=object)"
      ]
     },
     "execution_count": 254,
     "metadata": {},
     "output_type": "execute_result"
    }
   ],
   "source": [
    "X['employment_type'].unique()"
   ]
  },
  {
   "cell_type": "code",
   "execution_count": 255,
   "id": "7e32e5c0",
   "metadata": {},
   "outputs": [
    {
     "data": {
      "text/plain": [
       "array(['Data Scientist', 'Machine Learning Scientist',\n",
       "       'Big Data Engineer', 'Product Data Analyst',\n",
       "       'Machine Learning Engineer', 'Data Analyst', 'Lead Data Scientist',\n",
       "       'Business Data Analyst', 'Lead Data Engineer', 'Lead Data Analyst',\n",
       "       'Data Engineer', 'Data Science Consultant', 'BI Data Analyst',\n",
       "       'Director of Data Science', 'Research Scientist',\n",
       "       'Machine Learning Manager', 'Data Engineering Manager',\n",
       "       'Machine Learning Infrastructure Engineer', 'ML Engineer',\n",
       "       'AI Scientist', 'Computer Vision Engineer',\n",
       "       'Principal Data Scientist', 'Data Science Manager', 'Head of Data',\n",
       "       '3D Computer Vision Researcher', 'Data Analytics Engineer',\n",
       "       'Applied Data Scientist', 'Marketing Data Analyst',\n",
       "       'Cloud Data Engineer', 'Financial Data Analyst',\n",
       "       'Computer Vision Software Engineer',\n",
       "       'Director of Data Engineering', 'Data Science Engineer',\n",
       "       'Principal Data Engineer', 'Machine Learning Developer',\n",
       "       'Applied Machine Learning Scientist', 'Data Analytics Manager',\n",
       "       'Head of Data Science', 'Data Specialist', 'Data Architect',\n",
       "       'Finance Data Analyst', 'Principal Data Analyst',\n",
       "       'Big Data Architect', 'Staff Data Scientist', 'Analytics Engineer',\n",
       "       'ETL Developer', 'Head of Machine Learning', 'NLP Engineer',\n",
       "       'Lead Machine Learning Engineer', 'Data Analytics Lead'],\n",
       "      dtype=object)"
      ]
     },
     "execution_count": 255,
     "metadata": {},
     "output_type": "execute_result"
    }
   ],
   "source": [
    "X['job_title'].unique()"
   ]
  },
  {
   "cell_type": "code",
   "execution_count": 256,
   "id": "3d6d3060",
   "metadata": {},
   "outputs": [
    {
     "data": {
      "text/plain": [
       "array(['DE', 'JP', 'GB', 'HN', 'US', 'HU', 'NZ', 'FR', 'IN', 'PK', 'CN',\n",
       "       'GR', 'AE', 'NL', 'MX', 'CA', 'AT', 'NG', 'ES', 'PT', 'DK', 'IT',\n",
       "       'HR', 'LU', 'PL', 'SG', 'RO', 'IQ', 'BR', 'BE', 'UA', 'IL', 'RU',\n",
       "       'MT', 'CL', 'IR', 'CO', 'MD', 'KE', 'SI', 'CH', 'VN', 'AS', 'TR',\n",
       "       'CZ', 'DZ', 'EE', 'MY', 'AU', 'IE'], dtype=object)"
      ]
     },
     "execution_count": 256,
     "metadata": {},
     "output_type": "execute_result"
    }
   ],
   "source": [
    "X['company_location'].unique()"
   ]
  },
  {
   "cell_type": "code",
   "execution_count": 257,
   "id": "db24a116",
   "metadata": {},
   "outputs": [
    {
     "data": {
      "text/html": [
       "<div>\n",
       "<style scoped>\n",
       "    .dataframe tbody tr th:only-of-type {\n",
       "        vertical-align: middle;\n",
       "    }\n",
       "\n",
       "    .dataframe tbody tr th {\n",
       "        vertical-align: top;\n",
       "    }\n",
       "\n",
       "    .dataframe thead th {\n",
       "        text-align: right;\n",
       "    }\n",
       "</style>\n",
       "<table border=\"1\" class=\"dataframe\">\n",
       "  <thead>\n",
       "    <tr style=\"text-align: right;\">\n",
       "      <th></th>\n",
       "      <th>work_year</th>\n",
       "      <th>experience_level</th>\n",
       "      <th>employment_type</th>\n",
       "      <th>job_title</th>\n",
       "      <th>salary</th>\n",
       "      <th>remote_ratio</th>\n",
       "      <th>company_location</th>\n",
       "      <th>company_size</th>\n",
       "    </tr>\n",
       "  </thead>\n",
       "  <tbody>\n",
       "    <tr>\n",
       "      <th>0</th>\n",
       "      <td>2020</td>\n",
       "      <td>2</td>\n",
       "      <td>FT</td>\n",
       "      <td>Data Scientist</td>\n",
       "      <td>70000</td>\n",
       "      <td>0</td>\n",
       "      <td>DE</td>\n",
       "      <td>3</td>\n",
       "    </tr>\n",
       "    <tr>\n",
       "      <th>1</th>\n",
       "      <td>2020</td>\n",
       "      <td>3</td>\n",
       "      <td>FT</td>\n",
       "      <td>Machine Learning Scientist</td>\n",
       "      <td>260000</td>\n",
       "      <td>0</td>\n",
       "      <td>JP</td>\n",
       "      <td>1</td>\n",
       "    </tr>\n",
       "    <tr>\n",
       "      <th>2</th>\n",
       "      <td>2020</td>\n",
       "      <td>3</td>\n",
       "      <td>FT</td>\n",
       "      <td>Big Data Engineer</td>\n",
       "      <td>85000</td>\n",
       "      <td>50</td>\n",
       "      <td>GB</td>\n",
       "      <td>2</td>\n",
       "    </tr>\n",
       "    <tr>\n",
       "      <th>3</th>\n",
       "      <td>2020</td>\n",
       "      <td>2</td>\n",
       "      <td>FT</td>\n",
       "      <td>Product Data Analyst</td>\n",
       "      <td>20000</td>\n",
       "      <td>0</td>\n",
       "      <td>HN</td>\n",
       "      <td>1</td>\n",
       "    </tr>\n",
       "    <tr>\n",
       "      <th>4</th>\n",
       "      <td>2020</td>\n",
       "      <td>3</td>\n",
       "      <td>FT</td>\n",
       "      <td>Machine Learning Engineer</td>\n",
       "      <td>150000</td>\n",
       "      <td>50</td>\n",
       "      <td>US</td>\n",
       "      <td>3</td>\n",
       "    </tr>\n",
       "  </tbody>\n",
       "</table>\n",
       "</div>"
      ],
      "text/plain": [
       "   work_year  experience_level employment_type                   job_title  \\\n",
       "0       2020                 2              FT              Data Scientist   \n",
       "1       2020                 3              FT  Machine Learning Scientist   \n",
       "2       2020                 3              FT           Big Data Engineer   \n",
       "3       2020                 2              FT        Product Data Analyst   \n",
       "4       2020                 3              FT   Machine Learning Engineer   \n",
       "\n",
       "   salary  remote_ratio company_location  company_size  \n",
       "0   70000             0               DE             3  \n",
       "1  260000             0               JP             1  \n",
       "2   85000            50               GB             2  \n",
       "3   20000             0               HN             1  \n",
       "4  150000            50               US             3  "
      ]
     },
     "execution_count": 257,
     "metadata": {},
     "output_type": "execute_result"
    }
   ],
   "source": [
    "X.head()"
   ]
  },
  {
   "cell_type": "code",
   "execution_count": 258,
   "id": "0d2b25e5",
   "metadata": {},
   "outputs": [
    {
     "data": {
      "text/plain": [
       "(607, 8)"
      ]
     },
     "execution_count": 258,
     "metadata": {},
     "output_type": "execute_result"
    }
   ],
   "source": [
    "X.shape"
   ]
  },
  {
   "cell_type": "code",
   "execution_count": 259,
   "id": "0fb330c4",
   "metadata": {},
   "outputs": [],
   "source": [
    "ct = ColumnTransformer(transformers=[\n",
    "    ('transform', OneHotEncoder(sparse=False,drop='first'), ['employment_type','job_title','company_location'])\n",
    "],remainder = 'passthrough')"
   ]
  },
  {
   "cell_type": "code",
   "execution_count": 260,
   "id": "604258ff",
   "metadata": {},
   "outputs": [
    {
     "data": {
      "text/plain": [
       "array([[0.00e+00, 1.00e+00, 0.00e+00, ..., 7.00e+04, 0.00e+00, 3.00e+00],\n",
       "       [0.00e+00, 1.00e+00, 0.00e+00, ..., 2.60e+05, 0.00e+00, 1.00e+00],\n",
       "       [0.00e+00, 1.00e+00, 0.00e+00, ..., 8.50e+04, 5.00e+01, 2.00e+00],\n",
       "       ...,\n",
       "       [0.00e+00, 1.00e+00, 0.00e+00, ..., 1.29e+05, 0.00e+00, 2.00e+00],\n",
       "       [0.00e+00, 1.00e+00, 0.00e+00, ..., 1.50e+05, 1.00e+02, 2.00e+00],\n",
       "       [0.00e+00, 1.00e+00, 0.00e+00, ..., 2.00e+05, 1.00e+02, 3.00e+00]])"
      ]
     },
     "execution_count": 260,
     "metadata": {},
     "output_type": "execute_result"
    }
   ],
   "source": [
    "X = ct.fit_transform(X)\n",
    "X"
   ]
  },
  {
   "cell_type": "code",
   "execution_count": 261,
   "id": "3f9fe368",
   "metadata": {},
   "outputs": [
    {
     "data": {
      "text/plain": [
       "(607, 106)"
      ]
     },
     "execution_count": 261,
     "metadata": {},
     "output_type": "execute_result"
    }
   ],
   "source": [
    "X.shape"
   ]
  },
  {
   "cell_type": "code",
   "execution_count": 262,
   "id": "741b0e55",
   "metadata": {},
   "outputs": [],
   "source": [
    "X_train, X_test, y_train, y_test = train_test_split(X,y,test_size=0.2,random_state=20)"
   ]
  },
  {
   "cell_type": "code",
   "execution_count": 263,
   "id": "0af5d63a",
   "metadata": {},
   "outputs": [
    {
     "data": {
      "text/plain": [
       "array([[0.0000e+00, 1.0000e+00, 0.0000e+00, ..., 4.5000e+05, 1.0000e+02,\n",
       "        3.0000e+00],\n",
       "       [0.0000e+00, 1.0000e+00, 0.0000e+00, ..., 3.7456e+04, 5.0000e+01,\n",
       "        3.0000e+00],\n",
       "       [0.0000e+00, 1.0000e+00, 0.0000e+00, ..., 5.0000e+04, 0.0000e+00,\n",
       "        2.0000e+00],\n",
       "       ...,\n",
       "       [0.0000e+00, 1.0000e+00, 0.0000e+00, ..., 1.0200e+05, 0.0000e+00,\n",
       "        2.0000e+00],\n",
       "       [0.0000e+00, 1.0000e+00, 0.0000e+00, ..., 1.4000e+05, 0.0000e+00,\n",
       "        2.0000e+00],\n",
       "       [0.0000e+00, 1.0000e+00, 0.0000e+00, ..., 5.0000e+04, 0.0000e+00,\n",
       "        2.0000e+00]])"
      ]
     },
     "execution_count": 263,
     "metadata": {},
     "output_type": "execute_result"
    }
   ],
   "source": [
    "X_train"
   ]
  },
  {
   "cell_type": "code",
   "execution_count": 264,
   "id": "9415d23f",
   "metadata": {},
   "outputs": [
    {
     "data": {
      "text/plain": [
       "(485, 106)"
      ]
     },
     "execution_count": 264,
     "metadata": {},
     "output_type": "execute_result"
    }
   ],
   "source": [
    "X_train.shape"
   ]
  },
  {
   "cell_type": "code",
   "execution_count": 265,
   "id": "5d244607",
   "metadata": {},
   "outputs": [
    {
     "data": {
      "text/plain": [
       "21     450000\n",
       "105     37456\n",
       "373     50000\n",
       "378    208775\n",
       "471     50000\n",
       "        ...  \n",
       "218     75000\n",
       "223     40900\n",
       "271    102000\n",
       "474    140000\n",
       "355     50000\n",
       "Name: salary, Length: 485, dtype: int64"
      ]
     },
     "execution_count": 265,
     "metadata": {},
     "output_type": "execute_result"
    }
   ],
   "source": [
    "y_train"
   ]
  },
  {
   "cell_type": "code",
   "execution_count": 266,
   "id": "ec860ed0",
   "metadata": {},
   "outputs": [
    {
     "data": {
      "text/plain": [
       "LinearRegression()"
      ]
     },
     "execution_count": 266,
     "metadata": {},
     "output_type": "execute_result"
    }
   ],
   "source": [
    "model = linear_model.LinearRegression()\n",
    "model.fit(X_train, y_train)"
   ]
  },
  {
   "cell_type": "code",
   "execution_count": 267,
   "id": "c2c7db95",
   "metadata": {},
   "outputs": [
    {
     "data": {
      "text/plain": [
       "array([ 200000.        ,  106260.        ,   60000.        ,\n",
       "        123000.        ,  105400.        ,   85000.        ,\n",
       "       2200000.        ,   78000.        ,  115934.        ,\n",
       "         87000.        ,  118000.        ,  120000.        ,\n",
       "         70000.        ,  150000.        ,   37000.        ,\n",
       "         75000.        ,  154000.        ,   82500.        ,\n",
       "        138600.        ,  189650.        ,  157000.00061718,\n",
       "        135000.        ,   65000.        ,   51999.        ,\n",
       "       4450000.        ,  209100.        ,   93150.        ,\n",
       "        140000.        ,   67000.        ,  181940.        ,\n",
       "        235000.        ,   74000.        ,  105000.        ,\n",
       "        160000.        ,   34000.        ,   45000.        ,\n",
       "         90000.        , 2500000.        ,  130000.        ,\n",
       "        150000.        ,   69999.        ,   13999.99999999,\n",
       "       7000000.        ,  175000.        ,  300000.        ,\n",
       "        147000.        ,   60000.        ,  110000.        ,\n",
       "         18999.99999999,   76760.        ,   80000.        ,\n",
       "         52000.        ,  138350.        ,   10000.        ,\n",
       "        132320.        ,  140000.        ,   19999.99999998,\n",
       "        136600.        ,  225000.        ,  115000.        ,\n",
       "        126500.        ,  121000.        ,   98000.        ,\n",
       "         99100.        ,   54000.        ,  115000.        ,\n",
       "         75000.00061717,  153000.        ,   70000.        ,\n",
       "         59000.        ,   80000.        ,  100000.        ,\n",
       "         76760.        ,   59000.        ,  205300.        ,\n",
       "        180000.        ,  132320.        ,  250000.        ,\n",
       "        135000.        ,  159999.99999999,  200000.        ,\n",
       "         67000.        ,   22000.        ,  174000.        ,\n",
       "         81666.        ,   40000.        , 3000000.        ,\n",
       "        120160.        ,  100000.        ,   60000.        ,\n",
       "         70000.        ,  115934.        ,   60000.        ,\n",
       "         41000.        ,   65000.        ,   48000.        ,\n",
       "         55000.        ,   70000.        ,  170000.        ,\n",
       "         72500.        ,   40000.        ,   40000.        ,\n",
       "        400000.00061718,  110000.        ,  299000.        ,\n",
       "       1450000.        ,  423000.        , 1799997.        ,\n",
       "        130000.        ,  100000.        ,  126500.        ,\n",
       "        145000.        ,  155000.        ,  159000.        ,\n",
       "         21844.00000001,   48000.        ,   90000.        ,\n",
       "         80000.        ,  412000.        ,   90000.        ,\n",
       "        200000.        ,  137141.        ])"
      ]
     },
     "execution_count": 267,
     "metadata": {},
     "output_type": "execute_result"
    }
   ],
   "source": [
    "model.predict(X_test)"
   ]
  },
  {
   "cell_type": "code",
   "execution_count": 268,
   "id": "8fae878a",
   "metadata": {},
   "outputs": [
    {
     "data": {
      "text/plain": [
       "1.0"
      ]
     },
     "execution_count": 268,
     "metadata": {},
     "output_type": "execute_result"
    }
   ],
   "source": [
    "model.score(X_test,y_test)"
   ]
  },
  {
   "cell_type": "code",
   "execution_count": 269,
   "id": "781c2af6",
   "metadata": {},
   "outputs": [],
   "source": [
    "y_pred = model.predict(X_test)\n",
    "score = model.score(X_test, y_test)\n",
    "from sklearn.metrics import r2_score\n",
    "r2 = r2_score(y_test, y_pred)\n",
    "from sklearn.metrics import mean_squared_error\n",
    "mse = mean_squared_error(y_test, y_pred)\n",
    "rse = mean_squared_error(y_test, y_pred)\n",
    "rmse = sqrt(rse)"
   ]
  },
  {
   "cell_type": "code",
   "execution_count": 270,
   "id": "3dc076ba",
   "metadata": {},
   "outputs": [
    {
     "name": "stdout",
     "output_type": "stream",
     "text": [
      "R-squared: 1.0\n",
      "Mean Squared Error: 9.366637659076747e-09\n",
      "Relative Squared Error: 9.366637659076747e-09\n",
      "Root Mean Squared Error:  9.67813910784338e-05\n"
     ]
    }
   ],
   "source": [
    "print('R-squared:', r2)\n",
    "print(\"Mean Squared Error:\",mse)\n",
    "print(\"Relative Squared Error:\",rse)\n",
    "print(\"Root Mean Squared Error: \", rmse)"
   ]
  },
  {
   "cell_type": "code",
   "execution_count": null,
   "id": "e3c24241",
   "metadata": {},
   "outputs": [],
   "source": []
  }
 ],
 "metadata": {
  "kernelspec": {
   "display_name": "Python 3 (ipykernel)",
   "language": "python",
   "name": "python3"
  },
  "language_info": {
   "codemirror_mode": {
    "name": "ipython",
    "version": 3
   },
   "file_extension": ".py",
   "mimetype": "text/x-python",
   "name": "python",
   "nbconvert_exporter": "python",
   "pygments_lexer": "ipython3",
   "version": "3.9.13"
  }
 },
 "nbformat": 4,
 "nbformat_minor": 5
}
